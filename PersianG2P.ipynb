{
  "nbformat": 4,
  "nbformat_minor": 0,
  "metadata": {
    "colab": {
      "provenance": [],
      "authorship_tag": "ABX9TyOW3u8OQrvWF+pvSezY6WCE"
    },
    "kernelspec": {
      "name": "python3",
      "display_name": "Python 3"
    },
    "language_info": {
      "name": "python"
    },
    "accelerator": "GPU"
  },
  "cells": [
    {
      "cell_type": "markdown",
      "source": [
        "# Loading data "
      ],
      "metadata": {
        "id": "n2UC5X0evaSC"
      }
    },
    {
      "cell_type": "code",
      "execution_count": 1,
      "metadata": {
        "colab": {
          "base_uri": "https://localhost:8080/"
        },
        "id": "4Ql5c0Cgu3qQ",
        "outputId": "ac734a2f-0b42-44cb-a9b5-7eef2b62e40c"
      },
      "outputs": [
        {
          "output_type": "stream",
          "name": "stdout",
          "text": [
            "Drive already mounted at /content/drive; to attempt to forcibly remount, call drive.mount(\"/content/drive\", force_remount=True).\n"
          ]
        }
      ],
      "source": [
        "from google.colab import drive\n",
        "drive.mount('/content/drive')"
      ]
    },
    {
      "cell_type": "code",
      "source": [
        "cd drive/MyDrive"
      ],
      "metadata": {
        "colab": {
          "base_uri": "https://localhost:8080/"
        },
        "id": "yj6NUTpKv-Qe",
        "outputId": "b8d4ccf9-ccfc-446f-bafd-c2a4029b114a"
      },
      "execution_count": 2,
      "outputs": [
        {
          "output_type": "stream",
          "name": "stdout",
          "text": [
            "/content/drive/MyDrive\n"
          ]
        }
      ]
    },
    {
      "cell_type": "code",
      "source": [
        "import pandas as pd\n",
        "data=pd.read_csv(\"data.csv\",encoding=\"utf-8\")"
      ],
      "metadata": {
        "id": "1Rv6-LODvZ2Q"
      },
      "execution_count": 3,
      "outputs": []
    },
    {
      "cell_type": "code",
      "source": [
        "print(len(data))\n",
        "data.head(30)"
      ],
      "metadata": {
        "colab": {
          "base_uri": "https://localhost:8080/",
          "height": 1000
        },
        "id": "eykXoVKtv7HK",
        "outputId": "64babe1c-faf3-495c-b2f4-992360229fd7"
      },
      "execution_count": 4,
      "outputs": [
        {
          "output_type": "stream",
          "name": "stdout",
          "text": [
            "75182\n"
          ]
        },
        {
          "output_type": "execute_result",
          "data": {
            "text/plain": [
              "           grapheme             phoneme\n",
              "0                ره   rahmatollAh'alayh\n",
              "1                ره         rahmatollAh\n",
              "2                 ص  salavAtollAh'alayh\n",
              "3                 ع       'alayhessalAm\n",
              "4                عج   'ajalallAhota'AlA\n",
              "5              ق.ا.        qanune'asAsi\n",
              "6              ق.م.        qanunemadani\n",
              "7              ق.م.         qablazmilAd\n",
              "8               ق.م         qablazmilAd\n",
              "9               ق‌م         qablazmilAd\n",
              "10                م              milAdi\n",
              "11             ه.ش.        hejriyeSamsi\n",
              "12              ه.ش        hejriyeSamsi\n",
              "13              ه‌ش        hejriyeSamsi\n",
              "14             ه.ق.       hejriyeqamari\n",
              "15              ه.ق       hejriyeqamari\n",
              "16              ه‌ق       hejriyeqamari\n",
              "17                ا               'alef\n",
              "18                ا                  'e\n",
              "19                ا                  'A\n",
              "20               اب                 'ab\n",
              "21              ابا                'ebA\n",
              "22              ابا                'abA\n",
              "23             اباء                ebA'\n",
              "24  اباالفضل‌العباس     abalfazle'abbAs\n",
              "25           ابابکر            'abAbakr\n",
              "26           ابابیل             'abAbil\n",
              "27          اباجعفر          'abAja'far\n",
              "28           اباحتی            'ebAhati\n",
              "29            اباحه              'ebAhe"
            ],
            "text/html": [
              "\n",
              "  <div id=\"df-aaa51ae1-7713-4d3a-a142-262fd9910fdf\">\n",
              "    <div class=\"colab-df-container\">\n",
              "      <div>\n",
              "<style scoped>\n",
              "    .dataframe tbody tr th:only-of-type {\n",
              "        vertical-align: middle;\n",
              "    }\n",
              "\n",
              "    .dataframe tbody tr th {\n",
              "        vertical-align: top;\n",
              "    }\n",
              "\n",
              "    .dataframe thead th {\n",
              "        text-align: right;\n",
              "    }\n",
              "</style>\n",
              "<table border=\"1\" class=\"dataframe\">\n",
              "  <thead>\n",
              "    <tr style=\"text-align: right;\">\n",
              "      <th></th>\n",
              "      <th>grapheme</th>\n",
              "      <th>phoneme</th>\n",
              "    </tr>\n",
              "  </thead>\n",
              "  <tbody>\n",
              "    <tr>\n",
              "      <th>0</th>\n",
              "      <td>ره</td>\n",
              "      <td>rahmatollAh'alayh</td>\n",
              "    </tr>\n",
              "    <tr>\n",
              "      <th>1</th>\n",
              "      <td>ره</td>\n",
              "      <td>rahmatollAh</td>\n",
              "    </tr>\n",
              "    <tr>\n",
              "      <th>2</th>\n",
              "      <td>ص</td>\n",
              "      <td>salavAtollAh'alayh</td>\n",
              "    </tr>\n",
              "    <tr>\n",
              "      <th>3</th>\n",
              "      <td>ع</td>\n",
              "      <td>'alayhessalAm</td>\n",
              "    </tr>\n",
              "    <tr>\n",
              "      <th>4</th>\n",
              "      <td>عج</td>\n",
              "      <td>'ajalallAhota'AlA</td>\n",
              "    </tr>\n",
              "    <tr>\n",
              "      <th>5</th>\n",
              "      <td>ق.ا.</td>\n",
              "      <td>qanune'asAsi</td>\n",
              "    </tr>\n",
              "    <tr>\n",
              "      <th>6</th>\n",
              "      <td>ق.م.</td>\n",
              "      <td>qanunemadani</td>\n",
              "    </tr>\n",
              "    <tr>\n",
              "      <th>7</th>\n",
              "      <td>ق.م.</td>\n",
              "      <td>qablazmilAd</td>\n",
              "    </tr>\n",
              "    <tr>\n",
              "      <th>8</th>\n",
              "      <td>ق.م</td>\n",
              "      <td>qablazmilAd</td>\n",
              "    </tr>\n",
              "    <tr>\n",
              "      <th>9</th>\n",
              "      <td>ق‌م</td>\n",
              "      <td>qablazmilAd</td>\n",
              "    </tr>\n",
              "    <tr>\n",
              "      <th>10</th>\n",
              "      <td>م</td>\n",
              "      <td>milAdi</td>\n",
              "    </tr>\n",
              "    <tr>\n",
              "      <th>11</th>\n",
              "      <td>ه.ش.</td>\n",
              "      <td>hejriyeSamsi</td>\n",
              "    </tr>\n",
              "    <tr>\n",
              "      <th>12</th>\n",
              "      <td>ه.ش</td>\n",
              "      <td>hejriyeSamsi</td>\n",
              "    </tr>\n",
              "    <tr>\n",
              "      <th>13</th>\n",
              "      <td>ه‌ش</td>\n",
              "      <td>hejriyeSamsi</td>\n",
              "    </tr>\n",
              "    <tr>\n",
              "      <th>14</th>\n",
              "      <td>ه.ق.</td>\n",
              "      <td>hejriyeqamari</td>\n",
              "    </tr>\n",
              "    <tr>\n",
              "      <th>15</th>\n",
              "      <td>ه.ق</td>\n",
              "      <td>hejriyeqamari</td>\n",
              "    </tr>\n",
              "    <tr>\n",
              "      <th>16</th>\n",
              "      <td>ه‌ق</td>\n",
              "      <td>hejriyeqamari</td>\n",
              "    </tr>\n",
              "    <tr>\n",
              "      <th>17</th>\n",
              "      <td>ا</td>\n",
              "      <td>'alef</td>\n",
              "    </tr>\n",
              "    <tr>\n",
              "      <th>18</th>\n",
              "      <td>ا</td>\n",
              "      <td>'e</td>\n",
              "    </tr>\n",
              "    <tr>\n",
              "      <th>19</th>\n",
              "      <td>ا</td>\n",
              "      <td>'A</td>\n",
              "    </tr>\n",
              "    <tr>\n",
              "      <th>20</th>\n",
              "      <td>اب</td>\n",
              "      <td>'ab</td>\n",
              "    </tr>\n",
              "    <tr>\n",
              "      <th>21</th>\n",
              "      <td>ابا</td>\n",
              "      <td>'ebA</td>\n",
              "    </tr>\n",
              "    <tr>\n",
              "      <th>22</th>\n",
              "      <td>ابا</td>\n",
              "      <td>'abA</td>\n",
              "    </tr>\n",
              "    <tr>\n",
              "      <th>23</th>\n",
              "      <td>اباء</td>\n",
              "      <td>ebA'</td>\n",
              "    </tr>\n",
              "    <tr>\n",
              "      <th>24</th>\n",
              "      <td>اباالفضل‌العباس</td>\n",
              "      <td>abalfazle'abbAs</td>\n",
              "    </tr>\n",
              "    <tr>\n",
              "      <th>25</th>\n",
              "      <td>ابابکر</td>\n",
              "      <td>'abAbakr</td>\n",
              "    </tr>\n",
              "    <tr>\n",
              "      <th>26</th>\n",
              "      <td>ابابیل</td>\n",
              "      <td>'abAbil</td>\n",
              "    </tr>\n",
              "    <tr>\n",
              "      <th>27</th>\n",
              "      <td>اباجعفر</td>\n",
              "      <td>'abAja'far</td>\n",
              "    </tr>\n",
              "    <tr>\n",
              "      <th>28</th>\n",
              "      <td>اباحتی</td>\n",
              "      <td>'ebAhati</td>\n",
              "    </tr>\n",
              "    <tr>\n",
              "      <th>29</th>\n",
              "      <td>اباحه</td>\n",
              "      <td>'ebAhe</td>\n",
              "    </tr>\n",
              "  </tbody>\n",
              "</table>\n",
              "</div>\n",
              "      <button class=\"colab-df-convert\" onclick=\"convertToInteractive('df-aaa51ae1-7713-4d3a-a142-262fd9910fdf')\"\n",
              "              title=\"Convert this dataframe to an interactive table.\"\n",
              "              style=\"display:none;\">\n",
              "        \n",
              "  <svg xmlns=\"http://www.w3.org/2000/svg\" height=\"24px\"viewBox=\"0 0 24 24\"\n",
              "       width=\"24px\">\n",
              "    <path d=\"M0 0h24v24H0V0z\" fill=\"none\"/>\n",
              "    <path d=\"M18.56 5.44l.94 2.06.94-2.06 2.06-.94-2.06-.94-.94-2.06-.94 2.06-2.06.94zm-11 1L8.5 8.5l.94-2.06 2.06-.94-2.06-.94L8.5 2.5l-.94 2.06-2.06.94zm10 10l.94 2.06.94-2.06 2.06-.94-2.06-.94-.94-2.06-.94 2.06-2.06.94z\"/><path d=\"M17.41 7.96l-1.37-1.37c-.4-.4-.92-.59-1.43-.59-.52 0-1.04.2-1.43.59L10.3 9.45l-7.72 7.72c-.78.78-.78 2.05 0 2.83L4 21.41c.39.39.9.59 1.41.59.51 0 1.02-.2 1.41-.59l7.78-7.78 2.81-2.81c.8-.78.8-2.07 0-2.86zM5.41 20L4 18.59l7.72-7.72 1.47 1.35L5.41 20z\"/>\n",
              "  </svg>\n",
              "      </button>\n",
              "      \n",
              "  <style>\n",
              "    .colab-df-container {\n",
              "      display:flex;\n",
              "      flex-wrap:wrap;\n",
              "      gap: 12px;\n",
              "    }\n",
              "\n",
              "    .colab-df-convert {\n",
              "      background-color: #E8F0FE;\n",
              "      border: none;\n",
              "      border-radius: 50%;\n",
              "      cursor: pointer;\n",
              "      display: none;\n",
              "      fill: #1967D2;\n",
              "      height: 32px;\n",
              "      padding: 0 0 0 0;\n",
              "      width: 32px;\n",
              "    }\n",
              "\n",
              "    .colab-df-convert:hover {\n",
              "      background-color: #E2EBFA;\n",
              "      box-shadow: 0px 1px 2px rgba(60, 64, 67, 0.3), 0px 1px 3px 1px rgba(60, 64, 67, 0.15);\n",
              "      fill: #174EA6;\n",
              "    }\n",
              "\n",
              "    [theme=dark] .colab-df-convert {\n",
              "      background-color: #3B4455;\n",
              "      fill: #D2E3FC;\n",
              "    }\n",
              "\n",
              "    [theme=dark] .colab-df-convert:hover {\n",
              "      background-color: #434B5C;\n",
              "      box-shadow: 0px 1px 3px 1px rgba(0, 0, 0, 0.15);\n",
              "      filter: drop-shadow(0px 1px 2px rgba(0, 0, 0, 0.3));\n",
              "      fill: #FFFFFF;\n",
              "    }\n",
              "  </style>\n",
              "\n",
              "      <script>\n",
              "        const buttonEl =\n",
              "          document.querySelector('#df-aaa51ae1-7713-4d3a-a142-262fd9910fdf button.colab-df-convert');\n",
              "        buttonEl.style.display =\n",
              "          google.colab.kernel.accessAllowed ? 'block' : 'none';\n",
              "\n",
              "        async function convertToInteractive(key) {\n",
              "          const element = document.querySelector('#df-aaa51ae1-7713-4d3a-a142-262fd9910fdf');\n",
              "          const dataTable =\n",
              "            await google.colab.kernel.invokeFunction('convertToInteractive',\n",
              "                                                     [key], {});\n",
              "          if (!dataTable) return;\n",
              "\n",
              "          const docLinkHtml = 'Like what you see? Visit the ' +\n",
              "            '<a target=\"_blank\" href=https://colab.research.google.com/notebooks/data_table.ipynb>data table notebook</a>'\n",
              "            + ' to learn more about interactive tables.';\n",
              "          element.innerHTML = '';\n",
              "          dataTable['output_type'] = 'display_data';\n",
              "          await google.colab.output.renderOutput(dataTable, element);\n",
              "          const docLink = document.createElement('div');\n",
              "          docLink.innerHTML = docLinkHtml;\n",
              "          element.appendChild(docLink);\n",
              "        }\n",
              "      </script>\n",
              "    </div>\n",
              "  </div>\n",
              "  "
            ]
          },
          "metadata": {},
          "execution_count": 4
        }
      ]
    },
    {
      "cell_type": "markdown",
      "source": [
        "## Deleting 0 to 19 rows:\n",
        "because they are abbreviations in persian"
      ],
      "metadata": {
        "id": "tEQVChfgwbkN"
      }
    },
    {
      "cell_type": "code",
      "source": [
        "data=data.drop(data.index[:20])\n",
        "print(len(data))\n",
        "data.head(30)"
      ],
      "metadata": {
        "colab": {
          "base_uri": "https://localhost:8080/",
          "height": 1000
        },
        "id": "iRWZLiHcwUSF",
        "outputId": "8c26b282-28f4-4322-95ac-a07a93f98462"
      },
      "execution_count": 5,
      "outputs": [
        {
          "output_type": "stream",
          "name": "stdout",
          "text": [
            "75162\n"
          ]
        },
        {
          "output_type": "execute_result",
          "data": {
            "text/plain": [
              "           grapheme           phoneme\n",
              "20               اب               'ab\n",
              "21              ابا              'ebA\n",
              "22              ابا              'abA\n",
              "23             اباء              ebA'\n",
              "24  اباالفضل‌العباس   abalfazle'abbAs\n",
              "25           ابابکر          'abAbakr\n",
              "26           ابابیل           'abAbil\n",
              "27          اباجعفر        'abAja'far\n",
              "28           اباحتی          'ebAhati\n",
              "29            اباحه            'ebAhe\n",
              "30        اباحه‌گری        'ebAhegari\n",
              "31            اباحی            'ebAhi\n",
              "32          اباحیگر         'ebAhigar\n",
              "33         اباحیگری        'ebAhigari\n",
              "34            ابادت           'ebAdat\n",
              "35            اباذر           'abAzar\n",
              "36             ابار             'abAr\n",
              "37           اباریق           'abAriq\n",
              "38           اباطیل           'abAtil\n",
              "39     اباعبدالرحمن  'abA'abdorrahmAn\n",
              "40       اباعبدالله     'abA'abdellAh\n",
              "41      اباعبدالملک   'abA'abdolmalek\n",
              "42            اباعد           'abA'ed\n",
              "43            اباقا            'AbAqA\n",
              "44         اباقاخان         'AbAqAxAn\n",
              "45           ابالسه          'abAlese\n",
              "46           ابالیس           'abAlis\n",
              "47             ابام             'abAm\n",
              "48             ابان             'abAn\n",
              "49            ابانت           'ebAnat"
            ],
            "text/html": [
              "\n",
              "  <div id=\"df-1a7bbf36-5ef9-4355-99d6-b57499f9bc61\">\n",
              "    <div class=\"colab-df-container\">\n",
              "      <div>\n",
              "<style scoped>\n",
              "    .dataframe tbody tr th:only-of-type {\n",
              "        vertical-align: middle;\n",
              "    }\n",
              "\n",
              "    .dataframe tbody tr th {\n",
              "        vertical-align: top;\n",
              "    }\n",
              "\n",
              "    .dataframe thead th {\n",
              "        text-align: right;\n",
              "    }\n",
              "</style>\n",
              "<table border=\"1\" class=\"dataframe\">\n",
              "  <thead>\n",
              "    <tr style=\"text-align: right;\">\n",
              "      <th></th>\n",
              "      <th>grapheme</th>\n",
              "      <th>phoneme</th>\n",
              "    </tr>\n",
              "  </thead>\n",
              "  <tbody>\n",
              "    <tr>\n",
              "      <th>20</th>\n",
              "      <td>اب</td>\n",
              "      <td>'ab</td>\n",
              "    </tr>\n",
              "    <tr>\n",
              "      <th>21</th>\n",
              "      <td>ابا</td>\n",
              "      <td>'ebA</td>\n",
              "    </tr>\n",
              "    <tr>\n",
              "      <th>22</th>\n",
              "      <td>ابا</td>\n",
              "      <td>'abA</td>\n",
              "    </tr>\n",
              "    <tr>\n",
              "      <th>23</th>\n",
              "      <td>اباء</td>\n",
              "      <td>ebA'</td>\n",
              "    </tr>\n",
              "    <tr>\n",
              "      <th>24</th>\n",
              "      <td>اباالفضل‌العباس</td>\n",
              "      <td>abalfazle'abbAs</td>\n",
              "    </tr>\n",
              "    <tr>\n",
              "      <th>25</th>\n",
              "      <td>ابابکر</td>\n",
              "      <td>'abAbakr</td>\n",
              "    </tr>\n",
              "    <tr>\n",
              "      <th>26</th>\n",
              "      <td>ابابیل</td>\n",
              "      <td>'abAbil</td>\n",
              "    </tr>\n",
              "    <tr>\n",
              "      <th>27</th>\n",
              "      <td>اباجعفر</td>\n",
              "      <td>'abAja'far</td>\n",
              "    </tr>\n",
              "    <tr>\n",
              "      <th>28</th>\n",
              "      <td>اباحتی</td>\n",
              "      <td>'ebAhati</td>\n",
              "    </tr>\n",
              "    <tr>\n",
              "      <th>29</th>\n",
              "      <td>اباحه</td>\n",
              "      <td>'ebAhe</td>\n",
              "    </tr>\n",
              "    <tr>\n",
              "      <th>30</th>\n",
              "      <td>اباحه‌گری</td>\n",
              "      <td>'ebAhegari</td>\n",
              "    </tr>\n",
              "    <tr>\n",
              "      <th>31</th>\n",
              "      <td>اباحی</td>\n",
              "      <td>'ebAhi</td>\n",
              "    </tr>\n",
              "    <tr>\n",
              "      <th>32</th>\n",
              "      <td>اباحیگر</td>\n",
              "      <td>'ebAhigar</td>\n",
              "    </tr>\n",
              "    <tr>\n",
              "      <th>33</th>\n",
              "      <td>اباحیگری</td>\n",
              "      <td>'ebAhigari</td>\n",
              "    </tr>\n",
              "    <tr>\n",
              "      <th>34</th>\n",
              "      <td>ابادت</td>\n",
              "      <td>'ebAdat</td>\n",
              "    </tr>\n",
              "    <tr>\n",
              "      <th>35</th>\n",
              "      <td>اباذر</td>\n",
              "      <td>'abAzar</td>\n",
              "    </tr>\n",
              "    <tr>\n",
              "      <th>36</th>\n",
              "      <td>ابار</td>\n",
              "      <td>'abAr</td>\n",
              "    </tr>\n",
              "    <tr>\n",
              "      <th>37</th>\n",
              "      <td>اباریق</td>\n",
              "      <td>'abAriq</td>\n",
              "    </tr>\n",
              "    <tr>\n",
              "      <th>38</th>\n",
              "      <td>اباطیل</td>\n",
              "      <td>'abAtil</td>\n",
              "    </tr>\n",
              "    <tr>\n",
              "      <th>39</th>\n",
              "      <td>اباعبدالرحمن</td>\n",
              "      <td>'abA'abdorrahmAn</td>\n",
              "    </tr>\n",
              "    <tr>\n",
              "      <th>40</th>\n",
              "      <td>اباعبدالله</td>\n",
              "      <td>'abA'abdellAh</td>\n",
              "    </tr>\n",
              "    <tr>\n",
              "      <th>41</th>\n",
              "      <td>اباعبدالملک</td>\n",
              "      <td>'abA'abdolmalek</td>\n",
              "    </tr>\n",
              "    <tr>\n",
              "      <th>42</th>\n",
              "      <td>اباعد</td>\n",
              "      <td>'abA'ed</td>\n",
              "    </tr>\n",
              "    <tr>\n",
              "      <th>43</th>\n",
              "      <td>اباقا</td>\n",
              "      <td>'AbAqA</td>\n",
              "    </tr>\n",
              "    <tr>\n",
              "      <th>44</th>\n",
              "      <td>اباقاخان</td>\n",
              "      <td>'AbAqAxAn</td>\n",
              "    </tr>\n",
              "    <tr>\n",
              "      <th>45</th>\n",
              "      <td>ابالسه</td>\n",
              "      <td>'abAlese</td>\n",
              "    </tr>\n",
              "    <tr>\n",
              "      <th>46</th>\n",
              "      <td>ابالیس</td>\n",
              "      <td>'abAlis</td>\n",
              "    </tr>\n",
              "    <tr>\n",
              "      <th>47</th>\n",
              "      <td>ابام</td>\n",
              "      <td>'abAm</td>\n",
              "    </tr>\n",
              "    <tr>\n",
              "      <th>48</th>\n",
              "      <td>ابان</td>\n",
              "      <td>'abAn</td>\n",
              "    </tr>\n",
              "    <tr>\n",
              "      <th>49</th>\n",
              "      <td>ابانت</td>\n",
              "      <td>'ebAnat</td>\n",
              "    </tr>\n",
              "  </tbody>\n",
              "</table>\n",
              "</div>\n",
              "      <button class=\"colab-df-convert\" onclick=\"convertToInteractive('df-1a7bbf36-5ef9-4355-99d6-b57499f9bc61')\"\n",
              "              title=\"Convert this dataframe to an interactive table.\"\n",
              "              style=\"display:none;\">\n",
              "        \n",
              "  <svg xmlns=\"http://www.w3.org/2000/svg\" height=\"24px\"viewBox=\"0 0 24 24\"\n",
              "       width=\"24px\">\n",
              "    <path d=\"M0 0h24v24H0V0z\" fill=\"none\"/>\n",
              "    <path d=\"M18.56 5.44l.94 2.06.94-2.06 2.06-.94-2.06-.94-.94-2.06-.94 2.06-2.06.94zm-11 1L8.5 8.5l.94-2.06 2.06-.94-2.06-.94L8.5 2.5l-.94 2.06-2.06.94zm10 10l.94 2.06.94-2.06 2.06-.94-2.06-.94-.94-2.06-.94 2.06-2.06.94z\"/><path d=\"M17.41 7.96l-1.37-1.37c-.4-.4-.92-.59-1.43-.59-.52 0-1.04.2-1.43.59L10.3 9.45l-7.72 7.72c-.78.78-.78 2.05 0 2.83L4 21.41c.39.39.9.59 1.41.59.51 0 1.02-.2 1.41-.59l7.78-7.78 2.81-2.81c.8-.78.8-2.07 0-2.86zM5.41 20L4 18.59l7.72-7.72 1.47 1.35L5.41 20z\"/>\n",
              "  </svg>\n",
              "      </button>\n",
              "      \n",
              "  <style>\n",
              "    .colab-df-container {\n",
              "      display:flex;\n",
              "      flex-wrap:wrap;\n",
              "      gap: 12px;\n",
              "    }\n",
              "\n",
              "    .colab-df-convert {\n",
              "      background-color: #E8F0FE;\n",
              "      border: none;\n",
              "      border-radius: 50%;\n",
              "      cursor: pointer;\n",
              "      display: none;\n",
              "      fill: #1967D2;\n",
              "      height: 32px;\n",
              "      padding: 0 0 0 0;\n",
              "      width: 32px;\n",
              "    }\n",
              "\n",
              "    .colab-df-convert:hover {\n",
              "      background-color: #E2EBFA;\n",
              "      box-shadow: 0px 1px 2px rgba(60, 64, 67, 0.3), 0px 1px 3px 1px rgba(60, 64, 67, 0.15);\n",
              "      fill: #174EA6;\n",
              "    }\n",
              "\n",
              "    [theme=dark] .colab-df-convert {\n",
              "      background-color: #3B4455;\n",
              "      fill: #D2E3FC;\n",
              "    }\n",
              "\n",
              "    [theme=dark] .colab-df-convert:hover {\n",
              "      background-color: #434B5C;\n",
              "      box-shadow: 0px 1px 3px 1px rgba(0, 0, 0, 0.15);\n",
              "      filter: drop-shadow(0px 1px 2px rgba(0, 0, 0, 0.3));\n",
              "      fill: #FFFFFF;\n",
              "    }\n",
              "  </style>\n",
              "\n",
              "      <script>\n",
              "        const buttonEl =\n",
              "          document.querySelector('#df-1a7bbf36-5ef9-4355-99d6-b57499f9bc61 button.colab-df-convert');\n",
              "        buttonEl.style.display =\n",
              "          google.colab.kernel.accessAllowed ? 'block' : 'none';\n",
              "\n",
              "        async function convertToInteractive(key) {\n",
              "          const element = document.querySelector('#df-1a7bbf36-5ef9-4355-99d6-b57499f9bc61');\n",
              "          const dataTable =\n",
              "            await google.colab.kernel.invokeFunction('convertToInteractive',\n",
              "                                                     [key], {});\n",
              "          if (!dataTable) return;\n",
              "\n",
              "          const docLinkHtml = 'Like what you see? Visit the ' +\n",
              "            '<a target=\"_blank\" href=https://colab.research.google.com/notebooks/data_table.ipynb>data table notebook</a>'\n",
              "            + ' to learn more about interactive tables.';\n",
              "          element.innerHTML = '';\n",
              "          dataTable['output_type'] = 'display_data';\n",
              "          await google.colab.output.renderOutput(dataTable, element);\n",
              "          const docLink = document.createElement('div');\n",
              "          docLink.innerHTML = docLinkHtml;\n",
              "          element.appendChild(docLink);\n",
              "        }\n",
              "      </script>\n",
              "    </div>\n",
              "  </div>\n",
              "  "
            ]
          },
          "metadata": {},
          "execution_count": 5
        }
      ]
    },
    {
      "cell_type": "markdown",
      "source": [
        "## Splitting data to train,validation,test"
      ],
      "metadata": {
        "id": "OmqM_4ENxnid"
      }
    },
    {
      "cell_type": "code",
      "source": [
        "graphemes=list(data[\"grapheme\"])\n",
        "phonemes=list(data[\"phoneme\"])\n",
        "len(graphemes),len(phonemes)"
      ],
      "metadata": {
        "colab": {
          "base_uri": "https://localhost:8080/"
        },
        "id": "yWiKfJLWw-j9",
        "outputId": "773969a5-2f74-4bda-f7d8-57687f2edbde"
      },
      "execution_count": 6,
      "outputs": [
        {
          "output_type": "execute_result",
          "data": {
            "text/plain": [
              "(75162, 75162)"
            ]
          },
          "metadata": {},
          "execution_count": 6
        }
      ]
    },
    {
      "cell_type": "code",
      "source": [
        "all_data=[]\n",
        "for i in range(len(graphemes)):\n",
        "  all_data.append((graphemes[i],phonemes[i]))"
      ],
      "metadata": {
        "id": "TCcKtJGSxe1k"
      },
      "execution_count": 7,
      "outputs": []
    },
    {
      "cell_type": "code",
      "source": [
        "len(all_data),all_data[70000]"
      ],
      "metadata": {
        "colab": {
          "base_uri": "https://localhost:8080/"
        },
        "id": "xZGsj3AVx3Bn",
        "outputId": "af405dc2-d58f-4cfa-e227-c35c19524cf7"
      },
      "execution_count": 8,
      "outputs": [
        {
          "output_type": "execute_result",
          "data": {
            "text/plain": [
              "(75162, ('نگاشتن', 'negAStan'))"
            ]
          },
          "metadata": {},
          "execution_count": 8
        }
      ]
    },
    {
      "cell_type": "code",
      "source": [
        "from sklearn.model_selection import train_test_split"
      ],
      "metadata": {
        "id": "WNNHBzhfx4wf"
      },
      "execution_count": 9,
      "outputs": []
    },
    {
      "cell_type": "code",
      "source": [
        "train_iter,test_iter=train_test_split(all_data,test_size=0.2,random_state=42,shuffle=True)"
      ],
      "metadata": {
        "id": "agJ7cV6lzOTw"
      },
      "execution_count": 10,
      "outputs": []
    },
    {
      "cell_type": "code",
      "source": [
        "len(train_iter),len(test_iter)"
      ],
      "metadata": {
        "colab": {
          "base_uri": "https://localhost:8080/"
        },
        "id": "snc_SdNIzrKf",
        "outputId": "f3a31bf6-963d-4e0e-8d4a-454b10f5fc49"
      },
      "execution_count": 11,
      "outputs": [
        {
          "output_type": "execute_result",
          "data": {
            "text/plain": [
              "(60129, 15033)"
            ]
          },
          "metadata": {},
          "execution_count": 11
        }
      ]
    },
    {
      "cell_type": "markdown",
      "source": [
        "# Tokenizer:\n",
        "Since both graphemes and phonemes have no space character we just list the string for tokenizer"
      ],
      "metadata": {
        "id": "ENgi18T7z7YB"
      }
    },
    {
      "cell_type": "code",
      "source": [
        "def my_tokenizer(word : str):\n",
        "  return list(word)"
      ],
      "metadata": {
        "id": "VZRJlGNrzzRS"
      },
      "execution_count": 14,
      "outputs": []
    },
    {
      "cell_type": "markdown",
      "source": [
        "# Building vocab and token transform"
      ],
      "metadata": {
        "id": "kIV-Q01A0iiW"
      }
    },
    {
      "cell_type": "code",
      "source": [
        "from torchtext.vocab import build_vocab_from_iterator\n",
        "from typing import Iterable, List\n",
        "\n",
        "token_transform = {}\n",
        "vocab_transform = {}\n",
        "\n",
        "SRC_LANGUAGE = 'grapheme'\n",
        "TGT_LANGUAGE = 'phoneme'\n",
        "\n",
        "token_transform[SRC_LANGUAGE] = my_tokenizer\n",
        "token_transform[TGT_LANGUAGE] = my_tokenizer\n",
        "\n",
        "# yield token for build_vocab_from_iterator function\n",
        "def yield_tokens(data_iter: Iterable, language: str) -> List[str]:\n",
        "    language_index = {SRC_LANGUAGE: 0, TGT_LANGUAGE: 1}\n",
        "\n",
        "    for data_sample in data_iter:\n",
        "        yield token_transform[language](data_sample[language_index[language]])\n",
        "\n",
        "#special symbols and indices\n",
        "UNK_IDX, PAD_IDX, BOS_IDX, EOS_IDX = 0, 1, 2, 3\n",
        "special_symbols = ['<unk>', '<pad>', '<bos>', '<eos>']\n",
        "\n",
        "for ln in [SRC_LANGUAGE, TGT_LANGUAGE]:\n",
        "    # Training data Iterator\n",
        "    all_iter=all_data\n",
        "    # Create torchtext's Vocab object\n",
        "    vocab_transform[ln] = build_vocab_from_iterator(yield_tokens(all_data, ln),\n",
        "                                                    min_freq=1,\n",
        "                                                    specials=special_symbols,\n",
        "                                                    special_first=True)"
      ],
      "metadata": {
        "id": "1WrTkS5e0Nuy"
      },
      "execution_count": 15,
      "outputs": []
    },
    {
      "cell_type": "markdown",
      "source": [
        "# Creating Transformer Model"
      ],
      "metadata": {
        "id": "1SeiGMi72ds2"
      }
    },
    {
      "cell_type": "code",
      "source": [
        "from torch import Tensor\n",
        "import torch\n",
        "import torch.nn as nn\n",
        "from torch.nn import Transformer\n",
        "import math\n",
        "DEVICE = torch.device('cuda' if torch.cuda.is_available() else 'cpu')"
      ],
      "metadata": {
        "id": "k5pQfLYx2Up9"
      },
      "execution_count": 19,
      "outputs": []
    },
    {
      "cell_type": "markdown",
      "source": [
        "## PositionalEncoding"
      ],
      "metadata": {
        "id": "FCjFGhSn2oQK"
      }
    },
    {
      "cell_type": "code",
      "source": [
        "# helper Module that adds positional encoding to the token embedding to introduce a notion of word order.\n",
        "class PositionalEncoding(nn.Module):\n",
        "    def __init__(self,\n",
        "                 emb_size: int,\n",
        "                 dropout: float,\n",
        "                 maxlen: int = 5000):\n",
        "        super(PositionalEncoding, self).__init__()\n",
        "        den = torch.exp(- torch.arange(0, emb_size, 2)* math.log(10000) / emb_size)\n",
        "        pos = torch.arange(0, maxlen).reshape(maxlen, 1)\n",
        "        pos_embedding = torch.zeros((maxlen, emb_size))\n",
        "        pos_embedding[:, 0::2] = torch.sin(pos * den)\n",
        "        pos_embedding[:, 1::2] = torch.cos(pos * den)\n",
        "        pos_embedding = pos_embedding.unsqueeze(-2)\n",
        "\n",
        "        self.dropout = nn.Dropout(dropout)\n",
        "        self.register_buffer('pos_embedding', pos_embedding)\n",
        "\n",
        "    def forward(self, token_embedding: Tensor):\n",
        "        return self.dropout(token_embedding + self.pos_embedding[:token_embedding.size(0), :])\n"
      ],
      "metadata": {
        "id": "9GvjQ0zS2ikk"
      },
      "execution_count": 20,
      "outputs": []
    },
    {
      "cell_type": "markdown",
      "source": [
        "## TokenEmbedding"
      ],
      "metadata": {
        "id": "rcWxTeAS2xF7"
      }
    },
    {
      "cell_type": "code",
      "source": [
        "# helper Module to convert tensor of input indices into corresponding tensor of token embeddings\n",
        "class TokenEmbedding(nn.Module):\n",
        "    def __init__(self, vocab_size: int, emb_size):\n",
        "        super(TokenEmbedding, self).__init__()\n",
        "        self.embedding = nn.Embedding(vocab_size, emb_size)\n",
        "        self.emb_size = emb_size\n",
        "\n",
        "    def forward(self, tokens: Tensor):\n",
        "        return self.embedding(tokens.long()) * math.sqrt(self.emb_size)\n"
      ],
      "metadata": {
        "id": "6FiiR2912wfk"
      },
      "execution_count": 21,
      "outputs": []
    },
    {
      "cell_type": "markdown",
      "source": [
        "## Seq2Seq Transformer model"
      ],
      "metadata": {
        "id": "jTukhlxU26KP"
      }
    },
    {
      "cell_type": "code",
      "source": [
        "# Seq2Seq Network\n",
        "class Seq2SeqTransformer(nn.Module):\n",
        "    def __init__(self,\n",
        "                 num_encoder_layers: int,\n",
        "                 num_decoder_layers: int,\n",
        "                 emb_size: int,\n",
        "                 nhead: int,\n",
        "                 src_vocab_size: int,\n",
        "                 tgt_vocab_size: int,\n",
        "                 dim_feedforward: int = 512,\n",
        "                 dropout: float = 0.1):\n",
        "        super(Seq2SeqTransformer, self).__init__()\n",
        "        self.transformer = Transformer(d_model=emb_size,\n",
        "                                       nhead=nhead,\n",
        "                                       num_encoder_layers=num_encoder_layers,\n",
        "                                       num_decoder_layers=num_decoder_layers,\n",
        "                                       dim_feedforward=dim_feedforward,\n",
        "                                       dropout=dropout)\n",
        "        self.generator = nn.Linear(emb_size, tgt_vocab_size)\n",
        "        self.src_tok_emb = TokenEmbedding(src_vocab_size, emb_size)\n",
        "        self.tgt_tok_emb = TokenEmbedding(tgt_vocab_size, emb_size)\n",
        "        self.positional_encoding = PositionalEncoding(\n",
        "            emb_size, dropout=dropout)\n",
        "\n",
        "    def forward(self,\n",
        "                src: Tensor,\n",
        "                trg: Tensor,\n",
        "                src_mask: Tensor,\n",
        "                tgt_mask: Tensor,\n",
        "                src_padding_mask: Tensor,\n",
        "                tgt_padding_mask: Tensor,\n",
        "                memory_key_padding_mask: Tensor):\n",
        "        src_emb = self.positional_encoding(self.src_tok_emb(src))\n",
        "        tgt_emb = self.positional_encoding(self.tgt_tok_emb(trg))\n",
        "        outs = self.transformer(src_emb, tgt_emb, src_mask, tgt_mask, None,\n",
        "                                src_padding_mask, tgt_padding_mask, memory_key_padding_mask)\n",
        "        return self.generator(outs)\n",
        "\n",
        "    def encode(self, src: Tensor, src_mask: Tensor):\n",
        "        return self.transformer.encoder(self.positional_encoding(\n",
        "                            self.src_tok_emb(src)), src_mask)\n",
        "\n",
        "    def decode(self, tgt: Tensor, memory: Tensor, tgt_mask: Tensor):\n",
        "        return self.transformer.decoder(self.positional_encoding(\n",
        "                          self.tgt_tok_emb(tgt)), memory,\n",
        "                          tgt_mask)"
      ],
      "metadata": {
        "id": "d6T1y95v20Mj"
      },
      "execution_count": 22,
      "outputs": []
    },
    {
      "cell_type": "markdown",
      "source": [
        "# Masking mechanism\n",
        "During training, we need a subsequent character mask that will prevent model to look into the future characters when making predictions. We will also need masks to hide source and target padding tokens. Below, let’s define a function that will take care of both.\n",
        "\n",
        "Reference : https://pytorch.org/tutorials/beginner/translation_transformer.html"
      ],
      "metadata": {
        "id": "uhMLMRfP3Hjx"
      }
    },
    {
      "cell_type": "code",
      "source": [
        "def generate_square_subsequent_mask(sz):\n",
        "    mask = (torch.triu(torch.ones((sz, sz), device=DEVICE)) == 1).transpose(0, 1)\n",
        "    mask = mask.float().masked_fill(mask == 0, float('-inf')).masked_fill(mask == 1, float(0.0))\n",
        "    return mask\n",
        "\n",
        "\n",
        "def create_mask(src, tgt):\n",
        "    src_seq_len = src.shape[0]\n",
        "    tgt_seq_len = tgt.shape[0]\n",
        "\n",
        "    tgt_mask = generate_square_subsequent_mask(tgt_seq_len)\n",
        "    src_mask = torch.zeros((src_seq_len, src_seq_len),device=DEVICE).type(torch.bool)\n",
        "\n",
        "    src_padding_mask = (src == PAD_IDX).transpose(0, 1)\n",
        "    tgt_padding_mask = (tgt == PAD_IDX).transpose(0, 1)\n",
        "    return src_mask, tgt_mask, src_padding_mask, tgt_padding_mask"
      ],
      "metadata": {
        "id": "hMOIgPG93AW8"
      },
      "execution_count": 23,
      "outputs": []
    },
    {
      "cell_type": "markdown",
      "source": [
        "# Building Model"
      ],
      "metadata": {
        "id": "lhYmlTCH3oLB"
      }
    },
    {
      "cell_type": "code",
      "source": [
        "torch.manual_seed(42)\n",
        "\n",
        "# Hyperparameters\n",
        "SRC_VOCAB_SIZE = len(vocab_transform[SRC_LANGUAGE])\n",
        "TGT_VOCAB_SIZE = len(vocab_transform[TGT_LANGUAGE])\n",
        "EMB_SIZE = 512\n",
        "NHEAD = 8\n",
        "FFN_HID_DIM = 512\n",
        "BATCH_SIZE = 128\n",
        "NUM_ENCODER_LAYERS = 3\n",
        "NUM_DECODER_LAYERS = 3\n",
        "\n",
        "# Instantiating Model\n",
        "g2p_model = Seq2SeqTransformer(NUM_ENCODER_LAYERS, NUM_DECODER_LAYERS, EMB_SIZE,\n",
        "                                 NHEAD, SRC_VOCAB_SIZE, TGT_VOCAB_SIZE, FFN_HID_DIM)\n",
        "\n",
        "# weights and biases initialization\n",
        "for p in g2p_model.parameters():\n",
        "    if p.dim() > 1:\n",
        "        nn.init.xavier_uniform_(p)\n",
        "\n",
        "g2p_model = g2p_model.to(DEVICE)\n",
        "\n",
        "# CrossEntropy Loss function\n",
        "loss_fn = torch.nn.CrossEntropyLoss(ignore_index=PAD_IDX)\n",
        "\n",
        "# Adam optimizer\n",
        "optimizer = torch.optim.Adam(g2p_model.parameters(), lr=0.0001, betas=(0.9, 0.98), eps=1e-9)"
      ],
      "metadata": {
        "id": "koVESPMY3kWX"
      },
      "execution_count": 25,
      "outputs": []
    },
    {
      "cell_type": "markdown",
      "source": [
        "# Collation\n",
        "our data iterator yields a pair of raw strings. We need to convert these string pairs into the batched tensors that can be processed by our Seq2Seq network defined previously. Below we define our collate function that convert batch of raw strings into batch tensors that can be fed directly into our model.\n",
        "\n",
        "Reference : https://pytorch.org/tutorials/beginner/translation_transformer.html"
      ],
      "metadata": {
        "id": "S6gMpVjS4yvf"
      }
    },
    {
      "cell_type": "code",
      "source": [
        "from torch.nn.utils.rnn import pad_sequence\n",
        "\n",
        "# helper function to club together sequential operations\n",
        "def sequential_transforms(*transforms):\n",
        "    def func(txt_input):\n",
        "        for transform in transforms:\n",
        "            txt_input = transform(txt_input)\n",
        "        return txt_input\n",
        "    return func\n",
        "\n",
        "# function to add BOS/EOS and create tensor for input sequence indices\n",
        "def tensor_transform(token_ids: List[int]):\n",
        "    return torch.cat((torch.tensor([BOS_IDX]),\n",
        "                      torch.tensor(token_ids),\n",
        "                      torch.tensor([EOS_IDX])))\n",
        "\n",
        "# src and tgt language text transforms to convert raw strings into tensors indices\n",
        "text_transform = {}\n",
        "for ln in [SRC_LANGUAGE, TGT_LANGUAGE]:\n",
        "    text_transform[ln] = sequential_transforms(token_transform[ln], #Tokenization\n",
        "                                               vocab_transform[ln], #Numericalization\n",
        "                                               tensor_transform) # Add BOS/EOS and create tensor\n",
        "\n",
        "\n",
        "# function to collate data samples into batch tesors\n",
        "def collate_fn(batch):\n",
        "    src_batch, tgt_batch = [], []\n",
        "    for src_sample, tgt_sample in batch:\n",
        "        src_batch.append(text_transform[SRC_LANGUAGE](src_sample.rstrip(\"\\n\")))\n",
        "        tgt_batch.append(text_transform[TGT_LANGUAGE](tgt_sample.rstrip(\"\\n\")))\n",
        "\n",
        "    src_batch = pad_sequence(src_batch, padding_value=PAD_IDX)\n",
        "    tgt_batch = pad_sequence(tgt_batch, padding_value=PAD_IDX)\n",
        "    return src_batch, tgt_batch"
      ],
      "metadata": {
        "id": "FUbvc6Sg4tb6"
      },
      "execution_count": 29,
      "outputs": []
    },
    {
      "cell_type": "markdown",
      "source": [
        "# Training"
      ],
      "metadata": {
        "id": "JWFor7mF50Rj"
      }
    },
    {
      "cell_type": "code",
      "source": [
        "from torch.utils.data import DataLoader"
      ],
      "metadata": {
        "id": "u6FASGE56CGZ"
      },
      "execution_count": 30,
      "outputs": []
    },
    {
      "cell_type": "markdown",
      "source": [
        "## Training function"
      ],
      "metadata": {
        "id": "g2Q8x6k955wk"
      }
    },
    {
      "cell_type": "code",
      "source": [
        "def train_function(model, optimizer):\n",
        "    model.train()\n",
        "    losses = 0\n",
        "    train_dataloader = DataLoader(train_iter, batch_size=BATCH_SIZE, collate_fn=collate_fn)\n",
        "\n",
        "    for src, tgt in train_dataloader:\n",
        "        src = src.to(DEVICE)\n",
        "        tgt = tgt.to(DEVICE)\n",
        "\n",
        "        tgt_input = tgt[:-1, :]\n",
        "\n",
        "        src_mask, tgt_mask, src_padding_mask, tgt_padding_mask = create_mask(src, tgt_input)\n",
        "\n",
        "        logits = model(src, tgt_input, src_mask, tgt_mask,src_padding_mask, tgt_padding_mask, src_padding_mask)\n",
        "\n",
        "        optimizer.zero_grad()\n",
        "\n",
        "        tgt_out = tgt[1:, :]\n",
        "        loss = loss_fn(logits.reshape(-1, logits.shape[-1]), tgt_out.reshape(-1))\n",
        "        loss.backward()\n",
        "\n",
        "        optimizer.step()\n",
        "        losses += loss.item()\n",
        "\n",
        "    return losses / len(train_dataloader)"
      ],
      "metadata": {
        "id": "Yn6buel_5wKV"
      },
      "execution_count": 31,
      "outputs": []
    },
    {
      "cell_type": "markdown",
      "source": [
        "## Evaluating function"
      ],
      "metadata": {
        "id": "7tu1KMvH6jSa"
      }
    },
    {
      "cell_type": "code",
      "source": [
        "def evaluate_function(model):\n",
        "    model.eval()\n",
        "    losses = 0\n",
        "\n",
        "    val_iter=test_iter\n",
        "    val_dataloader = DataLoader(val_iter, batch_size=BATCH_SIZE, collate_fn=collate_fn)\n",
        "\n",
        "    for src, tgt in val_dataloader:\n",
        "        src = src.to(DEVICE)\n",
        "        tgt = tgt.to(DEVICE)\n",
        "\n",
        "        tgt_input = tgt[:-1, :]\n",
        "\n",
        "        src_mask, tgt_mask, src_padding_mask, tgt_padding_mask = create_mask(src, tgt_input)\n",
        "\n",
        "        logits = model(src, tgt_input, src_mask, tgt_mask,src_padding_mask, tgt_padding_mask, src_padding_mask)\n",
        "\n",
        "        tgt_out = tgt[1:, :]\n",
        "        loss = loss_fn(logits.reshape(-1, logits.shape[-1]), tgt_out.reshape(-1))\n",
        "        losses += loss.item()\n",
        "\n",
        "    return losses / len(val_dataloader)"
      ],
      "metadata": {
        "id": "4Uq5tsC16irJ"
      },
      "execution_count": 32,
      "outputs": []
    },
    {
      "cell_type": "markdown",
      "source": [
        "## Train model for N epochs"
      ],
      "metadata": {
        "id": "i0QR4D2e648V"
      }
    },
    {
      "cell_type": "code",
      "source": [
        "from timeit import default_timer as timer\n",
        "NUM_EPOCHS = 7\n",
        "\n",
        "stats_for_plotting={\"train_losses\":[],\"test_losses\":[]}\n",
        "for epoch in range(1, NUM_EPOCHS+1):\n",
        "    start_time = timer()\n",
        "    train_loss = train_function(g2p_model, optimizer)\n",
        "    end_time = timer()\n",
        "    val_loss = evaluate_function(g2p_model)\n",
        "    print((f\"Epoch: {epoch}, Train loss: {train_loss:.3f}, Val loss: {val_loss:.3f}, \"f\"Epoch time = {(end_time - start_time):.3f}s\"))\n",
        "    stats_for_plotting[\"train_losses\"].append(train_loss)\n",
        "    stats_for_plotting[\"test_losses\"].append(val_loss)\n"
      ],
      "metadata": {
        "colab": {
          "base_uri": "https://localhost:8080/"
        },
        "id": "u6vXLjQh61Xw",
        "outputId": "b3925abb-c46c-4b63-cc45-060df4f50298"
      },
      "execution_count": 35,
      "outputs": [
        {
          "output_type": "stream",
          "name": "stdout",
          "text": [
            "Epoch: 1, Train loss: 1.037, Val loss: 0.383, Epoch time = 35.727s\n",
            "Epoch: 2, Train loss: 0.406, Val loss: 0.282, Epoch time = 33.293s\n",
            "Epoch: 3, Train loss: 0.316, Val loss: 0.243, Epoch time = 33.062s\n",
            "Epoch: 4, Train loss: 0.273, Val loss: 0.220, Epoch time = 32.980s\n",
            "Epoch: 5, Train loss: 0.245, Val loss: 0.202, Epoch time = 33.119s\n",
            "Epoch: 6, Train loss: 0.225, Val loss: 0.191, Epoch time = 32.974s\n",
            "Epoch: 7, Train loss: 0.209, Val loss: 0.184, Epoch time = 33.032s\n"
          ]
        }
      ]
    },
    {
      "cell_type": "code",
      "source": [
        "for epoch in range(8, NUM_EPOCHS+8):\n",
        "    start_time = timer()\n",
        "    train_loss = train_function(g2p_model, optimizer)\n",
        "    end_time = timer()\n",
        "    val_loss = evaluate_function(g2p_model)\n",
        "    print((f\"Epoch: {epoch}, Train loss: {train_loss:.3f}, Val loss: {val_loss:.3f}, \"f\"Epoch time = {(end_time - start_time):.3f}s\"))\n",
        "    stats_for_plotting[\"train_losses\"].append(train_loss)\n",
        "    stats_for_plotting[\"test_losses\"].append(val_loss)\n",
        "    torch.save(g2p_model.state_dict(),f\"./G2P/epoch_{epoch}.pth\")"
      ],
      "metadata": {
        "colab": {
          "base_uri": "https://localhost:8080/"
        },
        "id": "tx7jjvynCi9S",
        "outputId": "474c7076-e10a-4fdd-eb15-63cb63f36905"
      },
      "execution_count": 47,
      "outputs": [
        {
          "output_type": "stream",
          "name": "stdout",
          "text": [
            "Epoch: 8, Train loss: 0.195, Val loss: 0.176, Epoch time = 33.421s\n",
            "Epoch: 9, Train loss: 0.184, Val loss: 0.168, Epoch time = 33.136s\n",
            "Epoch: 10, Train loss: 0.174, Val loss: 0.161, Epoch time = 32.910s\n",
            "Epoch: 11, Train loss: 0.165, Val loss: 0.155, Epoch time = 33.200s\n",
            "Epoch: 12, Train loss: 0.157, Val loss: 0.153, Epoch time = 32.937s\n",
            "Epoch: 13, Train loss: 0.150, Val loss: 0.150, Epoch time = 33.033s\n",
            "Epoch: 14, Train loss: 0.142, Val loss: 0.146, Epoch time = 33.139s\n"
          ]
        }
      ]
    },
    {
      "cell_type": "code",
      "source": [
        "for epoch in range(15, NUM_EPOCHS+25):\n",
        "    start_time = timer()\n",
        "    train_loss = train_function(g2p_model, optimizer)\n",
        "    end_time = timer()\n",
        "    val_loss = evaluate_function(g2p_model)\n",
        "    print((f\"Epoch: {epoch}, Train loss: {train_loss:.3f}, Val loss: {val_loss:.3f}, \"f\"Epoch time = {(end_time - start_time):.3f}s\"))\n",
        "    stats_for_plotting[\"train_losses\"].append(train_loss)\n",
        "    stats_for_plotting[\"test_losses\"].append(val_loss)\n",
        "    torch.save(g2p_model.state_dict(),f\"./G2P/epoch_{epoch}.pth\")"
      ],
      "metadata": {
        "colab": {
          "base_uri": "https://localhost:8080/"
        },
        "id": "NiaYRF9CD3_J",
        "outputId": "200e26e7-d2b2-425b-879d-fb013529dcd2"
      },
      "execution_count": 49,
      "outputs": [
        {
          "output_type": "stream",
          "name": "stdout",
          "text": [
            "Epoch: 15, Train loss: 0.138, Val loss: 0.144, Epoch time = 33.162s\n",
            "Epoch: 16, Train loss: 0.132, Val loss: 0.142, Epoch time = 33.229s\n",
            "Epoch: 17, Train loss: 0.127, Val loss: 0.139, Epoch time = 32.894s\n",
            "Epoch: 18, Train loss: 0.123, Val loss: 0.139, Epoch time = 33.078s\n",
            "Epoch: 19, Train loss: 0.118, Val loss: 0.138, Epoch time = 32.969s\n",
            "Epoch: 20, Train loss: 0.115, Val loss: 0.138, Epoch time = 33.005s\n",
            "Epoch: 21, Train loss: 0.110, Val loss: 0.136, Epoch time = 33.046s\n",
            "Epoch: 22, Train loss: 0.107, Val loss: 0.137, Epoch time = 33.071s\n",
            "Epoch: 23, Train loss: 0.103, Val loss: 0.137, Epoch time = 32.967s\n",
            "Epoch: 24, Train loss: 0.100, Val loss: 0.139, Epoch time = 32.964s\n",
            "Epoch: 25, Train loss: 0.097, Val loss: 0.139, Epoch time = 32.965s\n",
            "Epoch: 26, Train loss: 0.094, Val loss: 0.138, Epoch time = 32.968s\n",
            "Epoch: 27, Train loss: 0.092, Val loss: 0.134, Epoch time = 32.990s\n",
            "Epoch: 28, Train loss: 0.089, Val loss: 0.136, Epoch time = 33.099s\n",
            "Epoch: 29, Train loss: 0.087, Val loss: 0.136, Epoch time = 33.052s\n",
            "Epoch: 30, Train loss: 0.085, Val loss: 0.136, Epoch time = 32.953s\n",
            "Epoch: 31, Train loss: 0.083, Val loss: 0.136, Epoch time = 32.970s\n"
          ]
        }
      ]
    },
    {
      "cell_type": "code",
      "source": [
        "stats_for_plotting"
      ],
      "metadata": {
        "colab": {
          "base_uri": "https://localhost:8080/"
        },
        "id": "Ixy0j-C8D0Jf",
        "outputId": "625e3aec-8d59-46d0-cef7-6a596d9b735c"
      },
      "execution_count": 50,
      "outputs": [
        {
          "output_type": "execute_result",
          "data": {
            "text/plain": [
              "{'train_losses': [1.0367890465766825,\n",
              "  0.4061702524727963,\n",
              "  0.31627280591650214,\n",
              "  0.2732579821918873,\n",
              "  0.2451669233276489,\n",
              "  0.22498793123250313,\n",
              "  0.2087269459316071,\n",
              "  0.1949072889825131,\n",
              "  0.1836262784105666,\n",
              "  0.17351482285464065,\n",
              "  0.1647067409246526,\n",
              "  0.15725765250464704,\n",
              "  0.15038710295202884,\n",
              "  0.14218230090559797,\n",
              "  0.1376039984536932,\n",
              "  0.13193702467895568,\n",
              "  0.12733872214213332,\n",
              "  0.12256287157218507,\n",
              "  0.11806193495050389,\n",
              "  0.11464042195931394,\n",
              "  0.11045886295589995,\n",
              "  0.10683923786941996,\n",
              "  0.10347719591190206,\n",
              "  0.10037906991040453,\n",
              "  0.0967609409797699,\n",
              "  0.09378337535927904,\n",
              "  0.09201003277396902,\n",
              "  0.08884370896093388,\n",
              "  0.08716795068789036,\n",
              "  0.08473875898313014,\n",
              "  0.0826206015304048],\n",
              " 'test_losses': [0.38281249747437945,\n",
              "  0.2818042916261544,\n",
              "  0.24295662469783072,\n",
              "  0.2201470841290587,\n",
              "  0.2019746884451074,\n",
              "  0.1910256447933488,\n",
              "  0.18391394589917134,\n",
              "  0.17639153374958846,\n",
              "  0.1677941234182503,\n",
              "  0.16115214940855058,\n",
              "  0.15461906563427488,\n",
              "  0.15309493553082823,\n",
              "  0.15035588010135342,\n",
              "  0.14642869611665355,\n",
              "  0.1444788121192132,\n",
              "  0.1419578596191891,\n",
              "  0.13925450699309172,\n",
              "  0.1389749112018084,\n",
              "  0.13796408872230578,\n",
              "  0.1380917447603355,\n",
              "  0.1361735704970562,\n",
              "  0.13658290855207686,\n",
              "  0.13685948988896304,\n",
              "  0.13937195302066158,\n",
              "  0.13850052086478573,\n",
              "  0.1383320101363174,\n",
              "  0.13413929945584072,\n",
              "  0.13633597793720537,\n",
              "  0.135621299872459,\n",
              "  0.1362780306046292,\n",
              "  0.13618619638984486]}"
            ]
          },
          "metadata": {},
          "execution_count": 50
        }
      ]
    },
    {
      "cell_type": "code",
      "source": [
        "torch.save(g2p_model.state_dict(),\"./G2P/epoch_7.pth\")"
      ],
      "metadata": {
        "id": "ZHTyL5d_-LSN"
      },
      "execution_count": 36,
      "outputs": []
    },
    {
      "cell_type": "code",
      "source": [
        "from tqdm import tqdm\n",
        "trues=0\n",
        "all_preds=0\n",
        "for gs,ps in tqdm(test_iter):\n",
        "  gt=ps\n",
        "  myoutput=inference(g2p_model,gs)\n",
        "  if myoutput.replace(\" \",\"\")==gt:\n",
        "    trues+=1\n",
        "  all_preds+=1\n",
        "print(1.0*trues/all_preds)"
      ],
      "metadata": {
        "colab": {
          "base_uri": "https://localhost:8080/"
        },
        "id": "h-ro0MFg-LQI",
        "outputId": "9584b072-f76a-4259-8378-73b70abcebc0"
      },
      "execution_count": 44,
      "outputs": [
        {
          "output_type": "stream",
          "name": "stderr",
          "text": [
            "100%|██████████| 15033/15033 [09:55<00:00, 25.23it/s]"
          ]
        },
        {
          "output_type": "stream",
          "name": "stdout",
          "text": [
            "0.5769972726667997\n"
          ]
        },
        {
          "output_type": "stream",
          "name": "stderr",
          "text": [
            "\n"
          ]
        }
      ]
    },
    {
      "cell_type": "code",
      "source": [],
      "metadata": {
        "id": "2xZhmT9M-LJJ"
      },
      "execution_count": null,
      "outputs": []
    },
    {
      "cell_type": "markdown",
      "source": [
        "# Inference"
      ],
      "metadata": {
        "id": "0nKRNNr37A7F"
      }
    },
    {
      "cell_type": "markdown",
      "source": [
        "## decoder function\n",
        "it is called greedy decoder because we don't do any beam search for results"
      ],
      "metadata": {
        "id": "kPfQE_Hv7LV_"
      }
    },
    {
      "cell_type": "code",
      "source": [
        "# function to generate output sequence\n",
        "def greedy_decode(model, src, src_mask, max_len, start_symbol):\n",
        "    src = src.to(DEVICE)\n",
        "    src_mask = src_mask.to(DEVICE)\n",
        "\n",
        "    memory = model.encode(src, src_mask)\n",
        "    ys = torch.ones(1, 1).fill_(start_symbol).type(torch.long).to(DEVICE)\n",
        "    for i in range(max_len-1):\n",
        "        memory = memory.to(DEVICE)\n",
        "        tgt_mask = (generate_square_subsequent_mask(ys.size(0))\n",
        "                    .type(torch.bool)).to(DEVICE)\n",
        "        out = model.decode(ys, memory, tgt_mask)\n",
        "        out = out.transpose(0, 1)\n",
        "        prob = model.generator(out[:, -1])\n",
        "        _, next_word = torch.max(prob, dim=1)\n",
        "        next_word = next_word.item()\n",
        "\n",
        "        ys = torch.cat([ys,\n",
        "                        torch.ones(1, 1).type_as(src.data).fill_(next_word)], dim=0)\n",
        "        if next_word == EOS_IDX:\n",
        "            break\n",
        "    return ys\n"
      ],
      "metadata": {
        "id": "z7LXAnFH7CCQ"
      },
      "execution_count": 33,
      "outputs": []
    },
    {
      "cell_type": "markdown",
      "source": [
        "## Inference function\n",
        "gives a grapheme and outputs the phoneme"
      ],
      "metadata": {
        "id": "IxGW_FeW7iOc"
      }
    },
    {
      "cell_type": "code",
      "source": [
        "def inference(model: torch.nn.Module, src_sentence: str):\n",
        "    model.eval()\n",
        "    src = text_transform[SRC_LANGUAGE](src_sentence).view(-1, 1)\n",
        "    num_tokens = src.shape[0]\n",
        "    src_mask = (torch.zeros(num_tokens, num_tokens)).type(torch.bool)\n",
        "    tgt_tokens = greedy_decode(\n",
        "        model,  src, src_mask, max_len=num_tokens + 5, start_symbol=BOS_IDX).flatten()\n",
        "    return \" \".join(vocab_transform[TGT_LANGUAGE].lookup_tokens(list(tgt_tokens.cpu().numpy()))).replace(\"<bos>\", \"\").replace(\"<eos>\", \"\")"
      ],
      "metadata": {
        "id": "l1CcrIQE7c1E"
      },
      "execution_count": 34,
      "outputs": []
    },
    {
      "cell_type": "markdown",
      "source": [
        "## Some example:"
      ],
      "metadata": {
        "id": "C6aO6KBM8G9K"
      }
    },
    {
      "cell_type": "code",
      "source": [],
      "metadata": {
        "id": "xC1cACQr72dK"
      },
      "execution_count": null,
      "outputs": []
    }
  ]
}